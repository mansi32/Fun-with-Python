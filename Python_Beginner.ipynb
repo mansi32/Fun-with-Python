{
 "cells": [
  {
   "cell_type": "markdown",
   "id": "33e4aa8b-348f-40a6-bbb7-89327ab9d75a",
   "metadata": {},
   "source": [
    "# Number Guessing Game"
   ]
  },
  {
   "cell_type": "code",
   "execution_count": 2,
   "id": "022964d1-b97a-4db9-8df4-fea290ddb5eb",
   "metadata": {},
   "outputs": [
    {
     "name": "stdin",
     "output_type": "stream",
     "text": [
      "Enter any number: 3\n"
     ]
    },
    {
     "name": "stdout",
     "output_type": "stream",
     "text": [
      "You guessed it right!!\n"
     ]
    }
   ],
   "source": [
    "import random as rd\n",
    "\n",
    "n = rd.randrange(1,10)\n",
    "guess = int(input(\"Enter any number:\"))\n",
    "\n",
    "while n != guess:\n",
    "    if guess < n:\n",
    "        print(\"Too low\")\n",
    "        guess = int(input(\"Enter number again:\"))\n",
    "    elif guess > n:\n",
    "        print(\"Too High\")\n",
    "        guess = int(input(\"Enter number again:\"))\n",
    "    else:\n",
    "        break\n",
    "        \n",
    "print(\"You guessed it right!!\")"
   ]
  },
  {
   "cell_type": "markdown",
   "id": "135126d2-5cde-42b7-bc49-a12260f86e78",
   "metadata": {},
   "source": [
    "# Group Anagrams using Python"
   ]
  },
  {
   "cell_type": "code",
   "execution_count": 23,
   "id": "271d6f4b-2cc9-4b2b-a3c9-66bee57a220f",
   "metadata": {},
   "outputs": [
    {
     "data": {
      "text/plain": [
       "dict_values([['tea', 'eat', 'ate'], ['bat'], ['arc', 'car']])"
      ]
     },
     "execution_count": 23,
     "metadata": {},
     "output_type": "execute_result"
    }
   ],
   "source": [
    "from collections import defaultdict\n",
    "\n",
    "def group_anagrams(words):\n",
    "    \n",
    "    dfdict = defaultdict(list)\n",
    "    \n",
    "    for i in words:\n",
    "        sorted_i = \" \".join(sorted(i))\n",
    "        dfdict[sorted_i].append(i)\n",
    "        \n",
    "    return dfdict.values()\n",
    "\n",
    "words = [\"tea\", \"eat\", \"bat\", \"ate\", \"arc\", \"car\"]\n",
    "group_anagrams(words)"
   ]
  },
  {
   "cell_type": "markdown",
   "id": "136901dc-906c-4f84-b097-65539b1cee91",
   "metadata": {},
   "source": [
    "# Find Missing Number"
   ]
  },
  {
   "cell_type": "code",
   "execution_count": 14,
   "id": "37b1627d-6bb5-45f0-a1ed-128770412213",
   "metadata": {},
   "outputs": [
    {
     "name": "stdin",
     "output_type": "stream",
     "text": [
      "Enter how many numbers you want to put in the list: 10\n",
      "Enter number in a list: 1\n",
      "Enter number in a list: 2\n",
      "Enter number in a list: 3\n",
      "Enter number in a list: 6\n",
      "Enter number in a list: 7\n",
      "Enter number in a list: 8\n",
      "Enter number in a list: 10\n",
      "Enter number in a list: 11\n",
      "Enter number in a list: 12\n",
      "Enter number in a list: 14\n"
     ]
    },
    {
     "name": "stdout",
     "output_type": "stream",
     "text": [
      "[1, 2, 3, 6, 7, 8, 10, 11, 12, 14]\n",
      "[4, 5, 9, 13]\n"
     ]
    }
   ],
   "source": [
    "def findMissingNumbers():\n",
    "    \n",
    "    Input_list = []\n",
    "    z = int(input(\"Enter how many numbers you want to put in the list:\"))\n",
    "    \n",
    "    for i in range(1, z+1):\n",
    "        list_of_Numbers = int(input(\"Enter number in a list:\"))\n",
    "        Input_list.append(list_of_Numbers)\n",
    "    print(Input_list)\n",
    "    \n",
    "    numbers = set(Input_list)\n",
    "    output = []\n",
    "    \n",
    "    for j in range(1, Input_list[-1]):\n",
    "        if j not in numbers:\n",
    "            output.append(j)\n",
    "    return output\n",
    "    \n",
    "print(findMissingNumbers())"
   ]
  },
  {
   "cell_type": "markdown",
   "id": "d50e28c8-5491-4ae2-b661-885d6677119a",
   "metadata": {},
   "source": [
    "# Group Elements of Same Indices"
   ]
  },
  {
   "cell_type": "code",
   "execution_count": 56,
   "id": "b41677ce-25d9-408c-8e13-915ed9640dea",
   "metadata": {},
   "outputs": [
    {
     "name": "stdout",
     "output_type": "stream",
     "text": [
      "[1, 4, 6, 14]\n",
      "[2, 5, 8, 15]\n",
      "[3, 9, 10, 16]\n",
      "[11, 12, 13, 17]\n"
     ]
    }
   ],
   "source": [
    "def Indices():\n",
    "    \n",
    "    list1 = [[1,2,3,11], [4,5,9,12], [6,8,10,13], [14,15,16,17]]\n",
    "    list2 = []\n",
    "    i = 0\n",
    "    \n",
    "    for i in range(len(list1[i])):\n",
    "        \n",
    "        list2 = []\n",
    "        for j in range(len(list1)): \n",
    "            list2.append(list1[j][i])\n",
    "        print(list2)\n",
    "\n",
    "Indices()"
   ]
  },
  {
   "cell_type": "markdown",
   "id": "aeaf8d17-e553-435d-a516-ae46f6276b13",
   "metadata": {},
   "source": [
    "# Calculate Mean, Median, and Mode using Python"
   ]
  },
  {
   "cell_type": "markdown",
   "id": "748e6f68-88fd-4d67-88e3-3624e194f206",
   "metadata": {},
   "source": [
    "* Mean"
   ]
  },
  {
   "cell_type": "code",
   "execution_count": 66,
   "id": "0c0c4ab4-be94-432b-b4fc-07eef3898f52",
   "metadata": {},
   "outputs": [
    {
     "name": "stdin",
     "output_type": "stream",
     "text": [
      "Enter how many numbers you want to put in the list: 5\n",
      "Enter number in a list: 1\n",
      "Enter number in a list: 2\n",
      "Enter number in a list: 3\n",
      "Enter number in a list: 4\n",
      "Enter number in a list: 5\n"
     ]
    },
    {
     "name": "stdout",
     "output_type": "stream",
     "text": [
      "[1, 2, 3, 4, 5]\n"
     ]
    },
    {
     "data": {
      "text/plain": [
       "'Mean = 3.0'"
      ]
     },
     "execution_count": 66,
     "metadata": {},
     "output_type": "execute_result"
    }
   ],
   "source": [
    "def Mean():\n",
    "    \n",
    "    Input_list = []\n",
    "    z = int(input(\"Enter how many numbers you want to put in the list:\"))\n",
    "    \n",
    "    for i in range(1, z+1):\n",
    "        list_of_Numbers = int(input(\"Enter number in a list:\"))\n",
    "        Input_list.append(list_of_Numbers)\n",
    "    print(Input_list)\n",
    "    \n",
    "    Mean = sum(Input_list) / z\n",
    "    return \"Mean = {}\".format(Mean)\n",
    "    \n",
    "Mean()"
   ]
  },
  {
   "cell_type": "markdown",
   "id": "2e55a64f-b5ba-490f-9900-b67808a29eae",
   "metadata": {},
   "source": [
    "* Median"
   ]
  },
  {
   "cell_type": "code",
   "execution_count": 82,
   "id": "a104db6d-75b7-4415-acb4-fe8242ac196b",
   "metadata": {},
   "outputs": [
    {
     "name": "stdin",
     "output_type": "stream",
     "text": [
      "Enter how many numbers you want to put in the list: 4\n",
      "Enter number in a list: 45\n",
      "Enter number in a list: 65\n",
      "Enter number in a list: 75\n",
      "Enter number in a list: 35\n"
     ]
    },
    {
     "name": "stdout",
     "output_type": "stream",
     "text": [
      "[35, 45, 65, 75]\n"
     ]
    },
    {
     "data": {
      "text/plain": [
       "'Median = 55.0'"
      ]
     },
     "execution_count": 82,
     "metadata": {},
     "output_type": "execute_result"
    }
   ],
   "source": [
    "def Median():\n",
    "    \n",
    "    Input_list = []\n",
    "    z = int(input(\"Enter how many numbers you want to put in the list:\"))\n",
    "\n",
    "    for i in range(1, z+1):\n",
    "        list_of_Numbers = int(input(\"Enter number in a list:\"))\n",
    "        Input_list.append(list_of_Numbers)\n",
    "    Input_list.sort()\n",
    "    print(Input_list)\n",
    "    \n",
    "    if z%2 == 0:\n",
    "        m1 = Input_list[(z//2)-1]\n",
    "        m2 = Input_list[((z//2)+1)-1]\n",
    "        Median = (m1+m2)/2\n",
    "        return \"Median = {}\".format(Median)\n",
    "    else:\n",
    "        Median = Input_list[(z//2)]\n",
    "        return \"Median = {}\".format(Median)\n",
    "    \n",
    "Median()"
   ]
  },
  {
   "cell_type": "markdown",
   "id": "08612b97-650b-446e-82e6-50cf035a874c",
   "metadata": {},
   "source": [
    "* Mode"
   ]
  },
  {
   "cell_type": "code",
   "execution_count": 8,
   "id": "cfa469a4-43bf-4758-9d93-02f94ba91bc2",
   "metadata": {},
   "outputs": [
    {
     "data": {
      "text/plain": [
       "'Mode = 20'"
      ]
     },
     "execution_count": 8,
     "metadata": {},
     "output_type": "execute_result"
    }
   ],
   "source": [
    "def Mode():\n",
    "    list1 = [12, 16, 20, 20, 12, 30, 25, 23, 24, 20]\n",
    "    frequency = {}\n",
    "    for i in list1:\n",
    "        frequency.setdefault(i, 0)\n",
    "        frequency[i]+=1\n",
    "\n",
    "    frequent = max(frequency.values())\n",
    "    for i, j in frequency.items():\n",
    "        if j == frequent:\n",
    "            mode = i\n",
    "\n",
    "    return \"Mode = {}\".format(mode)\n",
    "\n",
    "Mode()"
   ]
  },
  {
   "cell_type": "markdown",
   "id": "5a6c9554-61ff-42d8-a66b-ff68ef91d52d",
   "metadata": {},
   "source": [
    "# Rock Paper Scissors Game using Python"
   ]
  },
  {
   "cell_type": "code",
   "execution_count": 5,
   "id": "2437b4d0-a676-4179-b425-65e8ea5bb2cc",
   "metadata": {},
   "outputs": [
    {
     "name": "stdin",
     "output_type": "stream",
     "text": [
      "Select Rock, Paper or Scissor: rock\n"
     ]
    },
    {
     "name": "stdout",
     "output_type": "stream",
     "text": [
      "Player 2 is selected: paper\n",
      "Player 2 Won\n"
     ]
    }
   ],
   "source": [
    "import random as rd\n",
    "\n",
    "player1 = input(\"Select Rock, Paper or Scissor:\").lower()\n",
    "player2 = rd.choice([\"Rock\", \"Paper\", \"Scissor\"]).lower()\n",
    "\n",
    "print(\"Player 2 is selected:\", player2)\n",
    "\n",
    "if player1 == \"rock\" and player2 == \"paper\":\n",
    "    print(\"Player 2 Won\")\n",
    "    \n",
    "elif player1 == \"paper\" and player2 == \"scissor\":\n",
    "    print(\"Player 2 Won\")\n",
    "    \n",
    "elif player1 == \"scissor\" and player2 == \"rock\":\n",
    "    print(\"Player 2 Won\")\n",
    "    \n",
    "elif player1 == player2:\n",
    "    print(\"Tie up between Players\")\n",
    "    \n",
    "else:\n",
    "    print(\"Player 1 Won\")"
   ]
  },
  {
   "cell_type": "markdown",
   "id": "7cfa3e31-d5db-4ff1-a230-aef83241fdc9",
   "metadata": {},
   "source": [
    "# Print Emojis using Python"
   ]
  },
  {
   "cell_type": "code",
   "execution_count": 13,
   "id": "aa439fd4-87bb-481a-9fb6-85dcfcc60b6a",
   "metadata": {},
   "outputs": [
    {
     "name": "stdout",
     "output_type": "stream",
     "text": [
      "I love reading books📚\n",
      "Some people have sensitive heart❤️, please be kind with them.🌺\n",
      "🤐\n"
     ]
    }
   ],
   "source": [
    "import emoji as em\n",
    "\n",
    "print(em.emojize(\"I love reading books:books:\"))\n",
    "print(em.emojize(\"Some people have sensitive heart:red_heart:, please be kind with them.:hibiscus:\"))\n",
    "print(em.emojize(\":zipper-mouth_face:\"))"
   ]
  },
  {
   "cell_type": "markdown",
   "id": "8dda7c2d-dd77-4b3a-8bce-88fffec1d060",
   "metadata": {},
   "source": [
    "# Correct Spellings using Python"
   ]
  },
  {
   "cell_type": "code",
   "execution_count": 6,
   "id": "aa0f7119-c9f6-4cde-823e-0c6a8755b85b",
   "metadata": {},
   "outputs": [
    {
     "name": "stdin",
     "output_type": "stream",
     "text": [
      "Enter a word: cerect\n"
     ]
    },
    {
     "name": "stdout",
     "output_type": "stream",
     "text": [
      "Correct Spelling is erect\n"
     ]
    }
   ],
   "source": [
    "from spellchecker import SpellChecker\n",
    "corrector = SpellChecker()\n",
    "\n",
    "word = input(\"Enter a word:\")\n",
    "\n",
    "if word in corrector:\n",
    "    print(\"Correct\")\n",
    "    \n",
    "else:\n",
    "    correct_word = corrector.correction(word)\n",
    "    print(\"Correct Spelling is\", correct_word)"
   ]
  },
  {
   "cell_type": "markdown",
   "id": "bc021727-5e88-4c42-bab3-2b1fb8c845b6",
   "metadata": {},
   "source": [
    "# Generate Text using Python"
   ]
  },
  {
   "cell_type": "code",
   "execution_count": 27,
   "id": "c039c2db-8d18-4878-8792-d54d7fe826e9",
   "metadata": {},
   "outputs": [
    {
     "name": "stderr",
     "output_type": "stream",
     "text": [
      "Setting `pad_token_id` to `eos_token_id`:50256 for open-end generation.\n"
     ]
    },
    {
     "name": "stdout",
     "output_type": "stream",
     "text": [
      "Hi, My name is Mansi Gupta, I am here from Kerala.\n",
      "\n",
      "So I met Dr Gopal Chavur when I was 13, we were in the family restaurant. The restaurant is named Mangal-bhai at the beginning and the menu you find here is quite small. It's about 2-3 people at a time. But what you actually get from this restaurant is a delicious beef-free food. This is a restaurant that I am pretty much familiar with. The people are super friendly and I remember they are taking the food out of their cart on the way to the restaurant.\n",
      "\n",
      "They make some good pork and curry here. I always like to have some vegetables. They also are vegetarian, so I always have this dish. It's also a good quality and well-made. They also like to bring you some hot sauces so if you don't want to be the kind of vegetarian that you are, you can try this.\n",
      "\n",
      "So I'm coming back to Kerala again. I can't wait to visit again.\n"
     ]
    }
   ],
   "source": [
    "from transformers import pipeline\n",
    "model = pipeline(\"text-generation\", model = \"gpt2\")\n",
    "\n",
    "sentence = model(\"Hi, My name is Mansi Gupta, I am here\", do_sample=True, top_k=50, max_length=1000)\n",
    "\n",
    "for i in sentence:\n",
    "    print(i[\"generated_text\"])"
   ]
  },
  {
   "cell_type": "markdown",
   "id": "6531eec4-2cdb-414c-b164-cb42880653fa",
   "metadata": {},
   "source": [
    "# Scrape Table from a Website using Python"
   ]
  },
  {
   "cell_type": "code",
   "execution_count": 37,
   "id": "aaa54f1e-eab5-4ab1-adcc-e6b7f83cefb9",
   "metadata": {},
   "outputs": [
    {
     "name": "stdout",
     "output_type": "stream",
     "text": [
      "    Websites Popularity (unique visitors per month)[1]  \\\n",
      "0  Google[2]                                2800000000   \n",
      "1   Facebook                                1120000000   \n",
      "2    YouTube                                1100000000   \n",
      "3      Yahoo                                 750000000   \n",
      "4       Etsy       516,000,000 (Total, not unique)[14]   \n",
      "\n",
      "        Front-end (Client-side)  \\\n",
      "0        JavaScript, TypeScript   \n",
      "1  JavaScript, Typescript, Flow   \n",
      "2        JavaScript, TypeScript   \n",
      "3                    JavaScript   \n",
      "4                    JavaScript   \n",
      "\n",
      "                              Back-end (Server-side)  \\\n",
      "0                  C, C++, Go,[3] Java, Python, Node   \n",
      "1  Hack/HHVM, Python, C++, Java, Erlang, D,[6] Ha...   \n",
      "2                   Python, C, C++, Java,[10] Go[11]   \n",
      "3                                                PHP   \n",
      "4                                        PHP[15][16]   \n",
      "\n",
      "                                     Database  \\\n",
      "0                     Bigtable,[4] MariaDB[5]   \n",
      "1      MariaDB, MySQL,[8] HBase, Cassandra[9]   \n",
      "2            Vitess, BigTable, MariaDB[5][12]   \n",
      "3  PostgreSQL, HBase, Cassandra, MongoDB,[13]   \n",
      "4                            MySQL, Redis[17]   \n",
      "\n",
      "                                       Notes  \n",
      "0  The most used search engine in the world.  \n",
      "1   The most visited social networking site.  \n",
      "2       The most popular video sharing site.  \n",
      "3                                        NaN  \n",
      "4                        E-commerce website.  \n"
     ]
    }
   ],
   "source": [
    "import urllib.request \n",
    "import pandas as pd\n",
    "\n",
    "request_url = urllib.request.urlopen(\"https://en.wikipedia.org/wiki/Programming_languages_used_in_most_popular_websites\")\n",
    "\n",
    "with request_url as i:\n",
    "    html = i.read()\n",
    "    \n",
    "data = pd.read_html(html)[0]\n",
    "print(data.head())"
   ]
  },
  {
   "cell_type": "markdown",
   "id": "6a1d6f01-cf63-4ece-a893-6e283d82e994",
   "metadata": {},
   "source": [
    "# Reversing a String using Python"
   ]
  },
  {
   "cell_type": "code",
   "execution_count": 51,
   "id": "ddf92ab2-025c-4b32-bab9-ff6ea37c047d",
   "metadata": {},
   "outputs": [
    {
     "name": "stdin",
     "output_type": "stream",
     "text": [
      "Enter string you want to reverse: sikha laal\n"
     ]
    },
    {
     "name": "stdout",
     "output_type": "stream",
     "text": [
      "laal ahkis\n"
     ]
    }
   ],
   "source": [
    "String = input(\"Enter string you want to reverse:\")\n",
    "x = \"\".join(list(reversed(String)))\n",
    "print(x)"
   ]
  },
  {
   "cell_type": "code",
   "execution_count": 57,
   "id": "303219c0-ff21-43b3-ae09-36871e8b00b0",
   "metadata": {},
   "outputs": [
    {
     "name": "stdin",
     "output_type": "stream",
     "text": [
      "Enter string you want to reverse: mansi\n"
     ]
    },
    {
     "data": {
      "text/plain": [
       "'isnam'"
      ]
     },
     "execution_count": 57,
     "metadata": {},
     "output_type": "execute_result"
    }
   ],
   "source": [
    "def reverse_string():\n",
    "    string = input(\"Enter string you want to reverse:\")\n",
    "    return string[::-1]\n",
    "\n",
    "reverse_string()"
   ]
  },
  {
   "cell_type": "markdown",
   "id": "746b8029-9c45-4440-869b-ee6a61be11f1",
   "metadata": {},
   "source": [
    "# Match Sequences using Python"
   ]
  },
  {
   "cell_type": "code",
   "execution_count": 7,
   "id": "6c91a01d-c059-4ab4-bdb8-aa28f335a4a4",
   "metadata": {},
   "outputs": [
    {
     "name": "stdin",
     "output_type": "stream",
     "text": [
      "Enter text here: My name is Mansi Gupta\n",
      "Enter another text here: Your name is Mahi\n"
     ]
    },
    {
     "name": "stdout",
     "output_type": "stream",
     "text": [
      "Both are 61.53846153846154% similar\n"
     ]
    }
   ],
   "source": [
    "from difflib import SequenceMatcher\n",
    "\n",
    "t1 = input(\"Enter text here:\")\n",
    "t2 = input(\"Enter another text here:\")\n",
    "\n",
    "sequence = SequenceMatcher(None, t1, t2).ratio()\n",
    "print(f\"Both are {sequence*100}% similar\")"
   ]
  },
  {
   "cell_type": "markdown",
   "id": "de3a3592-93fd-4b8f-bcc2-20c8c28fc615",
   "metadata": {},
   "source": [
    "# Creating Dummy Data using Python"
   ]
  },
  {
   "cell_type": "code",
   "execution_count": 67,
   "id": "c3d0343b-e958-488e-a3b5-dec0238d87f2",
   "metadata": {},
   "outputs": [
    {
     "name": "stdout",
     "output_type": "stream",
     "text": [
      "Pamela Schneider\n",
      "822 Bell Pine Suite 229\n",
      "South Michaelland, WY 98742\n",
      "Expert apply modern administration impact. Indeed full finish.\n",
      "Point hot single baby. Color leg ready reflect mean. Draw add rather back game need.\n"
     ]
    }
   ],
   "source": [
    "from faker import Faker\n",
    "\n",
    "fake = Faker()\n",
    "print(fake.name())\n",
    "print(fake.address())\n",
    "print(fake.text())"
   ]
  },
  {
   "cell_type": "code",
   "execution_count": 68,
   "id": "901fc9fa-09ba-49bf-9f92-98a5f527338c",
   "metadata": {},
   "outputs": [
    {
     "name": "stdout",
     "output_type": "stream",
     "text": [
      "                        job                        company          ssn  \\\n",
      "0                 Ecologist                    Bennett Inc  822-46-5779   \n",
      "1          Therapist, drama                      Fox Group  756-22-9750   \n",
      "2  Loss adjuster, chartered                Estrada-Higgins  820-47-9064   \n",
      "3                      Land                   Morgan-Duran  177-45-5017   \n",
      "4   Presenter, broadcasting  Richardson, Brown and Preston  203-42-2556   \n",
      "\n",
      "                                           residence  \\\n",
      "0  91319 Gabrielle Ways Apt. 741\\nRubiobury, ID 3...   \n",
      "1           472 John Ridges\\nMartinezville, PR 47853   \n",
      "2    348 Sweeney Parkways\\nNew Richardbury, GA 80153   \n",
      "3   7889 Elizabeth Valley\\nLake Carlyburgh, OH 45509   \n",
      "4               59759 Tim Port\\nSoniaville, WA 60629   \n",
      "\n",
      "            current_location blood_group  \\\n",
      "0   (62.497128, -110.075775)          O+   \n",
      "1    (49.639628, 151.902620)          A+   \n",
      "2     (50.435051, 12.942080)          O-   \n",
      "3  (-14.6292315, -67.380723)          O+   \n",
      "4    (-53.805676, 69.283553)          A+   \n",
      "\n",
      "                                             website         username  \\\n",
      "0   [http://www.martin.info/, https://simmons.info/]  calderonpatrick   \n",
      "1  [http://pierce-huffman.com/, http://www.lam.ne...     brandonperez   \n",
      "2       [http://thompson.info/, https://benton.biz/]   michellegarcia   \n",
      "3  [https://www.morgan.org/, http://www.harris.ne...  saundersroberto   \n",
      "4                          [https://www.torres.biz/]        francis65   \n",
      "\n",
      "                 name sex                                            address  \\\n",
      "0      Jenna Sandoval   F      233 Reese Curve Suite 982\\nRoseland, OR 87021   \n",
      "1  Elizabeth Thompson   F  58753 Johnson Fords Apt. 078\\nGalvanport, WI 7...   \n",
      "2      Crystal Lozano   F       7051 Karina Gateway\\nNew Joannland, RI 68423   \n",
      "3         Emma Nelson   F                   Unit 3320 Box 1867\\nDPO AA 67703   \n",
      "4         Misty Hardy   F  360 Jennifer Viaduct Suite 382\\nLopeztown, IL ...   \n",
      "\n",
      "                         mail   birthdate  \n",
      "0  bakerchristopher@yahoo.com  1995-03-08  \n",
      "1          joshua19@gmail.com  2005-01-07  \n",
      "2        thomasward@gmail.com  1945-07-17  \n",
      "3       bowerssarah@yahoo.com  1936-10-03  \n",
      "4         william21@yahoo.com  1965-12-22  \n"
     ]
    }
   ],
   "source": [
    "from faker import Faker\n",
    "import pandas as pd\n",
    "\n",
    "fake = Faker()\n",
    "data = [fake.profile() for i in range(50)]\n",
    "data = pd.DataFrame(data)\n",
    "print(data.head())"
   ]
  },
  {
   "cell_type": "markdown",
   "id": "978b1b96-d4a7-4934-9b09-e8f462efa3bd",
   "metadata": {},
   "source": [
    "# Remove Cuss Words using Python"
   ]
  },
  {
   "cell_type": "code",
   "execution_count": 73,
   "id": "9c24e90d-09e4-41d6-9c45-cfc3994866df",
   "metadata": {},
   "outputs": [
    {
     "name": "stdin",
     "output_type": "stream",
     "text": [
      "Enter text here: Please leave me alone and just piss off\n"
     ]
    },
    {
     "name": "stdout",
     "output_type": "stream",
     "text": [
      "Please leave me alone and just ****\n"
     ]
    }
   ],
   "source": [
    "from better_profanity import profanity\n",
    "\n",
    "text = input(\"Enter text here:\")\n",
    "censored = profanity.censor(text)\n",
    "print(censored)"
   ]
  },
  {
   "cell_type": "markdown",
   "id": "b5bc91b8-8222-4e73-98b7-9b9a0128aba9",
   "metadata": {},
   "source": [
    "# Extract Text From PDF using Python"
   ]
  },
  {
   "cell_type": "code",
   "execution_count": 1,
   "id": "0adb9bda-51f7-46df-b5cb-3eaa7fb83696",
   "metadata": {},
   "outputs": [
    {
     "name": "stdout",
     "output_type": "stream",
     "text": [
      "ANIMAL KINGDOM 3737\n",
      "When you look around, you will observe different animals with different\n",
      "structures and forms.  As over a million species of animals have been\n",
      "described till now, the need for classification becomes all the more\n",
      "important. The classification also helps in assigning a systematic position\n",
      "to newly described species.\n",
      "4.1 BASIS OF CLASSIFICATION\n",
      "Inspite of differences in structure and form of different animals, there are\n",
      "fundamental features common to various individuals in relation to the\n",
      "arrangement of cells, body symmetry, nature of coelom, patterns of\n",
      "digestive, circulatory or reproductive systems. These features are used\n",
      "as the basis of animal classification and some of them are discussed here.\n",
      "4.1.1 Levels of Organisation\n",
      "Though all members of Animalia are multicellular , all of them do not\n",
      "exhibit the same pattern of organisation of cells. For example, in sponges,\n",
      "the cells are arranged as loose cell aggregates, i.e., they exhibit cellular\n",
      "level of organisation. Some division of labour (activities) occur among\n",
      "the cells. In coelenterates, the arrangement of cells is more complex. Here\n",
      "the cells performing the same function are arranged into tissues, hence is\n",
      "called tissue level  of organisation. A still higher level of organisation, i.e.,\n",
      "organ level  is exhibited by members of Platyhelminthes and other higher\n",
      "phyla where tissues are grouped together to form organs, each specialised\n",
      "for a particular function. In animals like Annelids, Arthropods, Molluscs,ANIMAL KINGDOMCHAPTER   4\n",
      "4.1Basis of\n",
      "Classification\n",
      "4.2Classification of\n",
      "Animals\n",
      "Rationalised 2023-24\n",
      "\n"
     ]
    }
   ],
   "source": [
    "import PyPDF2\n",
    "\n",
    "pdf = open(\"kebo104.pdf\", \"rb\")\n",
    "reader = PyPDF2.PdfReader(pdf)\n",
    "page = reader.pages[0]\n",
    "print(page.extract_text())"
   ]
  },
  {
   "cell_type": "markdown",
   "id": "cb7fb330-5294-4d19-8532-bfb206897483",
   "metadata": {},
   "source": [
    "# Find Duplicate Values using Python"
   ]
  },
  {
   "cell_type": "code",
   "execution_count": 20,
   "id": "cb9e23a4-5f0a-489e-97b0-28ae6ed962dc",
   "metadata": {},
   "outputs": [
    {
     "name": "stdin",
     "output_type": "stream",
     "text": [
      "Enter number of values you want in a list: 8\n",
      "Enter element: Aman\n",
      "Enter element: Ram\n",
      "Enter element: Sita\n",
      "Enter element: Reema\n",
      "Enter element: Kesar\n",
      "Enter element: Ram\n",
      "Enter element: Aman\n",
      "Enter element: Sikhar\n"
     ]
    },
    {
     "name": "stdout",
     "output_type": "stream",
     "text": [
      "['Aman', 'Ram', 'Sita', 'Reema', 'Kesar', 'Ram', 'Aman', 'Sikhar']\n"
     ]
    },
    {
     "data": {
      "text/plain": [
       "['Aman', 'Ram']"
      ]
     },
     "execution_count": 20,
     "metadata": {},
     "output_type": "execute_result"
    }
   ],
   "source": [
    "def Duplicate_Values():\n",
    "    nlist = int(input(\"Enter number of values you want in a list:\"))\n",
    "    list1 = []\n",
    "    \n",
    "    for i in range(nlist):\n",
    "        list2 = input(\"Enter element:\")\n",
    "        list1.append(list2)\n",
    "    print(list1)\n",
    "    \n",
    "    list3 = []\n",
    "    for j in range(len(list1)):\n",
    "        n = j+1\n",
    "        for k in range(n, len(list1)):\n",
    "            if list1[j] == list1[k] and list1[j] not in list3:\n",
    "                list3.append(list1[j])   \n",
    "    return list3\n",
    "\n",
    "Duplicate_Values()"
   ]
  },
  {
   "cell_type": "markdown",
   "id": "902e5ba1-d2c2-4105-ae27-c5028770d09e",
   "metadata": {},
   "source": [
    "# Box Plot using Python"
   ]
  },
  {
   "cell_type": "code",
   "execution_count": 26,
   "id": "acbcce22-740d-43da-8940-bccf0e5897ed",
   "metadata": {},
   "outputs": [
    {
     "data": {
      "text/html": [
       "<div>\n",
       "<style scoped>\n",
       "    .dataframe tbody tr th:only-of-type {\n",
       "        vertical-align: middle;\n",
       "    }\n",
       "\n",
       "    .dataframe tbody tr th {\n",
       "        vertical-align: top;\n",
       "    }\n",
       "\n",
       "    .dataframe thead th {\n",
       "        text-align: right;\n",
       "    }\n",
       "</style>\n",
       "<table border=\"1\" class=\"dataframe\">\n",
       "  <thead>\n",
       "    <tr style=\"text-align: right;\">\n",
       "      <th></th>\n",
       "      <th>TV</th>\n",
       "      <th>Radio</th>\n",
       "      <th>Newspaper</th>\n",
       "      <th>Sales</th>\n",
       "    </tr>\n",
       "  </thead>\n",
       "  <tbody>\n",
       "    <tr>\n",
       "      <th>0</th>\n",
       "      <td>230.1</td>\n",
       "      <td>37.8</td>\n",
       "      <td>69.2</td>\n",
       "      <td>22.1</td>\n",
       "    </tr>\n",
       "    <tr>\n",
       "      <th>1</th>\n",
       "      <td>44.5</td>\n",
       "      <td>39.3</td>\n",
       "      <td>45.1</td>\n",
       "      <td>10.4</td>\n",
       "    </tr>\n",
       "    <tr>\n",
       "      <th>2</th>\n",
       "      <td>17.2</td>\n",
       "      <td>45.9</td>\n",
       "      <td>69.3</td>\n",
       "      <td>9.3</td>\n",
       "    </tr>\n",
       "    <tr>\n",
       "      <th>3</th>\n",
       "      <td>151.5</td>\n",
       "      <td>41.3</td>\n",
       "      <td>58.5</td>\n",
       "      <td>18.5</td>\n",
       "    </tr>\n",
       "    <tr>\n",
       "      <th>4</th>\n",
       "      <td>180.8</td>\n",
       "      <td>10.8</td>\n",
       "      <td>58.4</td>\n",
       "      <td>12.9</td>\n",
       "    </tr>\n",
       "  </tbody>\n",
       "</table>\n",
       "</div>"
      ],
      "text/plain": [
       "      TV  Radio  Newspaper  Sales\n",
       "0  230.1   37.8       69.2   22.1\n",
       "1   44.5   39.3       45.1   10.4\n",
       "2   17.2   45.9       69.3    9.3\n",
       "3  151.5   41.3       58.5   18.5\n",
       "4  180.8   10.8       58.4   12.9"
      ]
     },
     "execution_count": 26,
     "metadata": {},
     "output_type": "execute_result"
    }
   ],
   "source": [
    "import pandas as pd \n",
    "df = pd.read_csv(\"Pandas_Files\\Advertising.csv\")\n",
    "df.head()"
   ]
  },
  {
   "cell_type": "code",
   "execution_count": 51,
   "id": "40152188-dee4-4f52-9fcf-1bb334bc3b43",
   "metadata": {},
   "outputs": [
    {
     "data": {
      "application/vnd.plotly.v1+json": {
       "config": {
        "plotlyServerURL": "https://plot.ly"
       },
       "data": [
        {
         "alignmentgroup": "True",
         "hovertemplate": "TV=%{y}<extra></extra>",
         "legendgroup": "",
         "marker": {
          "color": "#636efa"
         },
         "name": "",
         "notched": false,
         "offsetgroup": "",
         "orientation": "v",
         "showlegend": false,
         "type": "box",
         "x0": " ",
         "xaxis": "x",
         "y": [
          230.1,
          44.5,
          17.2,
          151.5,
          180.8,
          8.7,
          57.5,
          120.2,
          8.6,
          199.8,
          66.1,
          214.7,
          23.8,
          97.5,
          204.1,
          195.4,
          67.8,
          281.4,
          69.2,
          147.3,
          218.4,
          237.4,
          13.2,
          228.3,
          62.3,
          262.9,
          142.9,
          240.1,
          248.8,
          70.6,
          292.9,
          112.9,
          97.2,
          265.6,
          95.7,
          290.7,
          266.9,
          74.7,
          43.1,
          228,
          202.5,
          177,
          293.6,
          206.9,
          25.1,
          175.1,
          89.7,
          239.9,
          227.2,
          66.9,
          199.8,
          100.4,
          216.4,
          182.6,
          262.7,
          198.9,
          7.3,
          136.2,
          210.8,
          210.7,
          53.5,
          261.3,
          239.3,
          102.7,
          131.1,
          69,
          31.5,
          139.3,
          237.4,
          216.8,
          199.1,
          109.8,
          26.8,
          129.4,
          213.4,
          16.9,
          27.5,
          120.5,
          5.4,
          116,
          76.4,
          239.8,
          75.3,
          68.4,
          213.5,
          193.2,
          76.3,
          110.7,
          88.3,
          109.8,
          134.3,
          28.6,
          217.7,
          250.9,
          107.4,
          163.3,
          197.6,
          184.9,
          289.7,
          135.2,
          222.4,
          296.4,
          280.2,
          187.9,
          238.2,
          137.9,
          25,
          90.4,
          13.1,
          255.4,
          225.8,
          241.7,
          175.7,
          209.6,
          78.2,
          75.1,
          139.2,
          76.4,
          125.7,
          19.4,
          141.3,
          18.8,
          224,
          123.1,
          229.5,
          87.2,
          7.8,
          80.2,
          220.3,
          59.6,
          0.7,
          265.2,
          8.4,
          219.8,
          36.9,
          48.3,
          25.6,
          273.7,
          43,
          184.9,
          73.4,
          193.7,
          220.5,
          104.6,
          96.2,
          140.3,
          240.1,
          243.2,
          38,
          44.7,
          280.7,
          121,
          197.6,
          171.3,
          187.8,
          4.1,
          93.9,
          149.8,
          11.7,
          131.7,
          172.5,
          85.7,
          188.4,
          163.5,
          117.2,
          234.5,
          17.9,
          206.8,
          215.4,
          284.3,
          50,
          164.5,
          19.6,
          168.4,
          222.4,
          276.9,
          248.4,
          170.2,
          276.7,
          165.6,
          156.6,
          218.5,
          56.2,
          287.6,
          253.8,
          205,
          139.5,
          191.1,
          286,
          18.7,
          39.5,
          75.5,
          17.2,
          166.8,
          149.7,
          38.2,
          94.2,
          177,
          283.6,
          232.1
         ],
         "y0": " ",
         "yaxis": "y"
        }
       ],
       "layout": {
        "autosize": true,
        "boxmode": "group",
        "legend": {
         "tracegroupgap": 0
        },
        "margin": {
         "t": 60
        },
        "template": {
         "data": {
          "bar": [
           {
            "error_x": {
             "color": "#2a3f5f"
            },
            "error_y": {
             "color": "#2a3f5f"
            },
            "marker": {
             "line": {
              "color": "#E5ECF6",
              "width": 0.5
             },
             "pattern": {
              "fillmode": "overlay",
              "size": 10,
              "solidity": 0.2
             }
            },
            "type": "bar"
           }
          ],
          "barpolar": [
           {
            "marker": {
             "line": {
              "color": "#E5ECF6",
              "width": 0.5
             },
             "pattern": {
              "fillmode": "overlay",
              "size": 10,
              "solidity": 0.2
             }
            },
            "type": "barpolar"
           }
          ],
          "carpet": [
           {
            "aaxis": {
             "endlinecolor": "#2a3f5f",
             "gridcolor": "white",
             "linecolor": "white",
             "minorgridcolor": "white",
             "startlinecolor": "#2a3f5f"
            },
            "baxis": {
             "endlinecolor": "#2a3f5f",
             "gridcolor": "white",
             "linecolor": "white",
             "minorgridcolor": "white",
             "startlinecolor": "#2a3f5f"
            },
            "type": "carpet"
           }
          ],
          "choropleth": [
           {
            "colorbar": {
             "outlinewidth": 0,
             "ticks": ""
            },
            "type": "choropleth"
           }
          ],
          "contour": [
           {
            "colorbar": {
             "outlinewidth": 0,
             "ticks": ""
            },
            "colorscale": [
             [
              0,
              "#0d0887"
             ],
             [
              0.1111111111111111,
              "#46039f"
             ],
             [
              0.2222222222222222,
              "#7201a8"
             ],
             [
              0.3333333333333333,
              "#9c179e"
             ],
             [
              0.4444444444444444,
              "#bd3786"
             ],
             [
              0.5555555555555556,
              "#d8576b"
             ],
             [
              0.6666666666666666,
              "#ed7953"
             ],
             [
              0.7777777777777778,
              "#fb9f3a"
             ],
             [
              0.8888888888888888,
              "#fdca26"
             ],
             [
              1,
              "#f0f921"
             ]
            ],
            "type": "contour"
           }
          ],
          "contourcarpet": [
           {
            "colorbar": {
             "outlinewidth": 0,
             "ticks": ""
            },
            "type": "contourcarpet"
           }
          ],
          "heatmap": [
           {
            "colorbar": {
             "outlinewidth": 0,
             "ticks": ""
            },
            "colorscale": [
             [
              0,
              "#0d0887"
             ],
             [
              0.1111111111111111,
              "#46039f"
             ],
             [
              0.2222222222222222,
              "#7201a8"
             ],
             [
              0.3333333333333333,
              "#9c179e"
             ],
             [
              0.4444444444444444,
              "#bd3786"
             ],
             [
              0.5555555555555556,
              "#d8576b"
             ],
             [
              0.6666666666666666,
              "#ed7953"
             ],
             [
              0.7777777777777778,
              "#fb9f3a"
             ],
             [
              0.8888888888888888,
              "#fdca26"
             ],
             [
              1,
              "#f0f921"
             ]
            ],
            "type": "heatmap"
           }
          ],
          "heatmapgl": [
           {
            "colorbar": {
             "outlinewidth": 0,
             "ticks": ""
            },
            "colorscale": [
             [
              0,
              "#0d0887"
             ],
             [
              0.1111111111111111,
              "#46039f"
             ],
             [
              0.2222222222222222,
              "#7201a8"
             ],
             [
              0.3333333333333333,
              "#9c179e"
             ],
             [
              0.4444444444444444,
              "#bd3786"
             ],
             [
              0.5555555555555556,
              "#d8576b"
             ],
             [
              0.6666666666666666,
              "#ed7953"
             ],
             [
              0.7777777777777778,
              "#fb9f3a"
             ],
             [
              0.8888888888888888,
              "#fdca26"
             ],
             [
              1,
              "#f0f921"
             ]
            ],
            "type": "heatmapgl"
           }
          ],
          "histogram": [
           {
            "marker": {
             "pattern": {
              "fillmode": "overlay",
              "size": 10,
              "solidity": 0.2
             }
            },
            "type": "histogram"
           }
          ],
          "histogram2d": [
           {
            "colorbar": {
             "outlinewidth": 0,
             "ticks": ""
            },
            "colorscale": [
             [
              0,
              "#0d0887"
             ],
             [
              0.1111111111111111,
              "#46039f"
             ],
             [
              0.2222222222222222,
              "#7201a8"
             ],
             [
              0.3333333333333333,
              "#9c179e"
             ],
             [
              0.4444444444444444,
              "#bd3786"
             ],
             [
              0.5555555555555556,
              "#d8576b"
             ],
             [
              0.6666666666666666,
              "#ed7953"
             ],
             [
              0.7777777777777778,
              "#fb9f3a"
             ],
             [
              0.8888888888888888,
              "#fdca26"
             ],
             [
              1,
              "#f0f921"
             ]
            ],
            "type": "histogram2d"
           }
          ],
          "histogram2dcontour": [
           {
            "colorbar": {
             "outlinewidth": 0,
             "ticks": ""
            },
            "colorscale": [
             [
              0,
              "#0d0887"
             ],
             [
              0.1111111111111111,
              "#46039f"
             ],
             [
              0.2222222222222222,
              "#7201a8"
             ],
             [
              0.3333333333333333,
              "#9c179e"
             ],
             [
              0.4444444444444444,
              "#bd3786"
             ],
             [
              0.5555555555555556,
              "#d8576b"
             ],
             [
              0.6666666666666666,
              "#ed7953"
             ],
             [
              0.7777777777777778,
              "#fb9f3a"
             ],
             [
              0.8888888888888888,
              "#fdca26"
             ],
             [
              1,
              "#f0f921"
             ]
            ],
            "type": "histogram2dcontour"
           }
          ],
          "mesh3d": [
           {
            "colorbar": {
             "outlinewidth": 0,
             "ticks": ""
            },
            "type": "mesh3d"
           }
          ],
          "parcoords": [
           {
            "line": {
             "colorbar": {
              "outlinewidth": 0,
              "ticks": ""
             }
            },
            "type": "parcoords"
           }
          ],
          "pie": [
           {
            "automargin": true,
            "type": "pie"
           }
          ],
          "scatter": [
           {
            "fillpattern": {
             "fillmode": "overlay",
             "size": 10,
             "solidity": 0.2
            },
            "type": "scatter"
           }
          ],
          "scatter3d": [
           {
            "line": {
             "colorbar": {
              "outlinewidth": 0,
              "ticks": ""
             }
            },
            "marker": {
             "colorbar": {
              "outlinewidth": 0,
              "ticks": ""
             }
            },
            "type": "scatter3d"
           }
          ],
          "scattercarpet": [
           {
            "marker": {
             "colorbar": {
              "outlinewidth": 0,
              "ticks": ""
             }
            },
            "type": "scattercarpet"
           }
          ],
          "scattergeo": [
           {
            "marker": {
             "colorbar": {
              "outlinewidth": 0,
              "ticks": ""
             }
            },
            "type": "scattergeo"
           }
          ],
          "scattergl": [
           {
            "marker": {
             "colorbar": {
              "outlinewidth": 0,
              "ticks": ""
             }
            },
            "type": "scattergl"
           }
          ],
          "scattermapbox": [
           {
            "marker": {
             "colorbar": {
              "outlinewidth": 0,
              "ticks": ""
             }
            },
            "type": "scattermapbox"
           }
          ],
          "scatterpolar": [
           {
            "marker": {
             "colorbar": {
              "outlinewidth": 0,
              "ticks": ""
             }
            },
            "type": "scatterpolar"
           }
          ],
          "scatterpolargl": [
           {
            "marker": {
             "colorbar": {
              "outlinewidth": 0,
              "ticks": ""
             }
            },
            "type": "scatterpolargl"
           }
          ],
          "scatterternary": [
           {
            "marker": {
             "colorbar": {
              "outlinewidth": 0,
              "ticks": ""
             }
            },
            "type": "scatterternary"
           }
          ],
          "surface": [
           {
            "colorbar": {
             "outlinewidth": 0,
             "ticks": ""
            },
            "colorscale": [
             [
              0,
              "#0d0887"
             ],
             [
              0.1111111111111111,
              "#46039f"
             ],
             [
              0.2222222222222222,
              "#7201a8"
             ],
             [
              0.3333333333333333,
              "#9c179e"
             ],
             [
              0.4444444444444444,
              "#bd3786"
             ],
             [
              0.5555555555555556,
              "#d8576b"
             ],
             [
              0.6666666666666666,
              "#ed7953"
             ],
             [
              0.7777777777777778,
              "#fb9f3a"
             ],
             [
              0.8888888888888888,
              "#fdca26"
             ],
             [
              1,
              "#f0f921"
             ]
            ],
            "type": "surface"
           }
          ],
          "table": [
           {
            "cells": {
             "fill": {
              "color": "#EBF0F8"
             },
             "line": {
              "color": "white"
             }
            },
            "header": {
             "fill": {
              "color": "#C8D4E3"
             },
             "line": {
              "color": "white"
             }
            },
            "type": "table"
           }
          ]
         },
         "layout": {
          "annotationdefaults": {
           "arrowcolor": "#2a3f5f",
           "arrowhead": 0,
           "arrowwidth": 1
          },
          "autotypenumbers": "strict",
          "coloraxis": {
           "colorbar": {
            "outlinewidth": 0,
            "ticks": ""
           }
          },
          "colorscale": {
           "diverging": [
            [
             0,
             "#8e0152"
            ],
            [
             0.1,
             "#c51b7d"
            ],
            [
             0.2,
             "#de77ae"
            ],
            [
             0.3,
             "#f1b6da"
            ],
            [
             0.4,
             "#fde0ef"
            ],
            [
             0.5,
             "#f7f7f7"
            ],
            [
             0.6,
             "#e6f5d0"
            ],
            [
             0.7,
             "#b8e186"
            ],
            [
             0.8,
             "#7fbc41"
            ],
            [
             0.9,
             "#4d9221"
            ],
            [
             1,
             "#276419"
            ]
           ],
           "sequential": [
            [
             0,
             "#0d0887"
            ],
            [
             0.1111111111111111,
             "#46039f"
            ],
            [
             0.2222222222222222,
             "#7201a8"
            ],
            [
             0.3333333333333333,
             "#9c179e"
            ],
            [
             0.4444444444444444,
             "#bd3786"
            ],
            [
             0.5555555555555556,
             "#d8576b"
            ],
            [
             0.6666666666666666,
             "#ed7953"
            ],
            [
             0.7777777777777778,
             "#fb9f3a"
            ],
            [
             0.8888888888888888,
             "#fdca26"
            ],
            [
             1,
             "#f0f921"
            ]
           ],
           "sequentialminus": [
            [
             0,
             "#0d0887"
            ],
            [
             0.1111111111111111,
             "#46039f"
            ],
            [
             0.2222222222222222,
             "#7201a8"
            ],
            [
             0.3333333333333333,
             "#9c179e"
            ],
            [
             0.4444444444444444,
             "#bd3786"
            ],
            [
             0.5555555555555556,
             "#d8576b"
            ],
            [
             0.6666666666666666,
             "#ed7953"
            ],
            [
             0.7777777777777778,
             "#fb9f3a"
            ],
            [
             0.8888888888888888,
             "#fdca26"
            ],
            [
             1,
             "#f0f921"
            ]
           ]
          },
          "colorway": [
           "#636efa",
           "#EF553B",
           "#00cc96",
           "#ab63fa",
           "#FFA15A",
           "#19d3f3",
           "#FF6692",
           "#B6E880",
           "#FF97FF",
           "#FECB52"
          ],
          "font": {
           "color": "#2a3f5f"
          },
          "geo": {
           "bgcolor": "white",
           "lakecolor": "white",
           "landcolor": "#E5ECF6",
           "showlakes": true,
           "showland": true,
           "subunitcolor": "white"
          },
          "hoverlabel": {
           "align": "left"
          },
          "hovermode": "closest",
          "mapbox": {
           "style": "light"
          },
          "paper_bgcolor": "white",
          "plot_bgcolor": "#E5ECF6",
          "polar": {
           "angularaxis": {
            "gridcolor": "white",
            "linecolor": "white",
            "ticks": ""
           },
           "bgcolor": "#E5ECF6",
           "radialaxis": {
            "gridcolor": "white",
            "linecolor": "white",
            "ticks": ""
           }
          },
          "scene": {
           "xaxis": {
            "backgroundcolor": "#E5ECF6",
            "gridcolor": "white",
            "gridwidth": 2,
            "linecolor": "white",
            "showbackground": true,
            "ticks": "",
            "zerolinecolor": "white"
           },
           "yaxis": {
            "backgroundcolor": "#E5ECF6",
            "gridcolor": "white",
            "gridwidth": 2,
            "linecolor": "white",
            "showbackground": true,
            "ticks": "",
            "zerolinecolor": "white"
           },
           "zaxis": {
            "backgroundcolor": "#E5ECF6",
            "gridcolor": "white",
            "gridwidth": 2,
            "linecolor": "white",
            "showbackground": true,
            "ticks": "",
            "zerolinecolor": "white"
           }
          },
          "shapedefaults": {
           "line": {
            "color": "#2a3f5f"
           }
          },
          "ternary": {
           "aaxis": {
            "gridcolor": "white",
            "linecolor": "white",
            "ticks": ""
           },
           "baxis": {
            "gridcolor": "white",
            "linecolor": "white",
            "ticks": ""
           },
           "bgcolor": "#E5ECF6",
           "caxis": {
            "gridcolor": "white",
            "linecolor": "white",
            "ticks": ""
           }
          },
          "title": {
           "x": 0.05
          },
          "xaxis": {
           "automargin": true,
           "gridcolor": "white",
           "linecolor": "white",
           "ticks": "",
           "title": {
            "standoff": 15
           },
           "zerolinecolor": "white",
           "zerolinewidth": 2
          },
          "yaxis": {
           "automargin": true,
           "gridcolor": "white",
           "linecolor": "white",
           "ticks": "",
           "title": {
            "standoff": 15
           },
           "zerolinecolor": "white",
           "zerolinewidth": 2
          }
         }
        },
        "xaxis": {
         "anchor": "y",
         "autorange": true,
         "domain": [
          0,
          1
         ],
         "range": [
          -0.5,
          0.5
         ],
         "type": "category"
        },
        "yaxis": {
         "anchor": "x",
         "autorange": true,
         "domain": [
          0,
          1
         ],
         "range": [
          -15.727777777777778,
          312.8277777777778
         ],
         "title": {
          "text": "TV"
         },
         "type": "linear"
        }
       }
      },
      "image/png": "[encoded data removed]",
      "text/html": [
       "<div>                            <div id=\"0a217b00-ad20-4336-b29b-e58f58117507\" class=\"plotly-graph-div\" style=\"height:525px; width:100%;\"></div>            <script type=\"text/javascript\">                require([\"plotly\"], function(Plotly) {                    window.PLOTLYENV=window.PLOTLYENV || {};                                    if (document.getElementById(\"0a217b00-ad20-4336-b29b-e58f58117507\")) {                    Plotly.newPlot(                        \"0a217b00-ad20-4336-b29b-e58f58117507\",                        [{\"alignmentgroup\":\"True\",\"hovertemplate\":\"TV=%{y}<extra></extra>\",\"legendgroup\":\"\",\"marker\":{\"color\":\"#636efa\"},\"name\":\"\",\"notched\":false,\"offsetgroup\":\"\",\"orientation\":\"v\",\"showlegend\":false,\"x0\":\" \",\"xaxis\":\"x\",\"y\":[230.1,44.5,17.2,151.5,180.8,8.7,57.5,120.2,8.6,199.8,66.1,214.7,23.8,97.5,204.1,195.4,67.8,281.4,69.2,147.3,218.4,237.4,13.2,228.3,62.3,262.9,142.9,240.1,248.8,70.6,292.9,112.9,97.2,265.6,95.7,290.7,266.9,74.7,43.1,228.0,202.5,177.0,293.6,206.9,25.1,175.1,89.7,239.9,227.2,66.9,199.8,100.4,216.4,182.6,262.7,198.9,7.3,136.2,210.8,210.7,53.5,261.3,239.3,102.7,131.1,69.0,31.5,139.3,237.4,216.8,199.1,109.8,26.8,129.4,213.4,16.9,27.5,120.5,5.4,116.0,76.4,239.8,75.3,68.4,213.5,193.2,76.3,110.7,88.3,109.8,134.3,28.6,217.7,250.9,107.4,163.3,197.6,184.9,289.7,135.2,222.4,296.4,280.2,187.9,238.2,137.9,25.0,90.4,13.1,255.4,225.8,241.7,175.7,209.6,78.2,75.1,139.2,76.4,125.7,19.4,141.3,18.8,224.0,123.1,229.5,87.2,7.8,80.2,220.3,59.6,0.7,265.2,8.4,219.8,36.9,48.3,25.6,273.7,43.0,184.9,73.4,193.7,220.5,104.6,96.2,140.3,240.1,243.2,38.0,44.7,280.7,121.0,197.6,171.3,187.8,4.1,93.9,149.8,11.7,131.7,172.5,85.7,188.4,163.5,117.2,234.5,17.9,206.8,215.4,284.3,50.0,164.5,19.6,168.4,222.4,276.9,248.4,170.2,276.7,165.6,156.6,218.5,56.2,287.6,253.8,205.0,139.5,191.1,286.0,18.7,39.5,75.5,17.2,166.8,149.7,38.2,94.2,177.0,283.6,232.1],\"y0\":\" \",\"yaxis\":\"y\",\"type\":\"box\"}],                        {\"template\":{\"data\":{\"histogram2dcontour\":[{\"type\":\"histogram2dcontour\",\"colorbar\":{\"outlinewidth\":0,\"ticks\":\"\"},\"colorscale\":[[0.0,\"#0d0887\"],[0.1111111111111111,\"#46039f\"],[0.2222222222222222,\"#7201a8\"],[0.3333333333333333,\"#9c179e\"],[0.4444444444444444,\"#bd3786\"],[0.5555555555555556,\"#d8576b\"],[0.6666666666666666,\"#ed7953\"],[0.7777777777777778,\"#fb9f3a\"],[0.8888888888888888,\"#fdca26\"],[1.0,\"#f0f921\"]]}],\"choropleth\":[{\"type\":\"choropleth\",\"colorbar\":{\"outlinewidth\":0,\"ticks\":\"\"}}],\"histogram2d\":[{\"type\":\"histogram2d\",\"colorbar\":{\"outlinewidth\":0,\"ticks\":\"\"},\"colorscale\":[[0.0,\"#0d0887\"],[0.1111111111111111,\"#46039f\"],[0.2222222222222222,\"#7201a8\"],[0.3333333333333333,\"#9c179e\"],[0.4444444444444444,\"#bd3786\"],[0.5555555555555556,\"#d8576b\"],[0.6666666666666666,\"#ed7953\"],[0.7777777777777778,\"#fb9f3a\"],[0.8888888888888888,\"#fdca26\"],[1.0,\"#f0f921\"]]}],\"heatmap\":[{\"type\":\"heatmap\",\"colorbar\":{\"outlinewidth\":0,\"ticks\":\"\"},\"colorscale\":[[0.0,\"#0d0887\"],[0.1111111111111111,\"#46039f\"],[0.2222222222222222,\"#7201a8\"],[0.3333333333333333,\"#9c179e\"],[0.4444444444444444,\"#bd3786\"],[0.5555555555555556,\"#d8576b\"],[0.6666666666666666,\"#ed7953\"],[0.7777777777777778,\"#fb9f3a\"],[0.8888888888888888,\"#fdca26\"],[1.0,\"#f0f921\"]]}],\"heatmapgl\":[{\"type\":\"heatmapgl\",\"colorbar\":{\"outlinewidth\":0,\"ticks\":\"\"},\"colorscale\":[[0.0,\"#0d0887\"],[0.1111111111111111,\"#46039f\"],[0.2222222222222222,\"#7201a8\"],[0.3333333333333333,\"#9c179e\"],[0.4444444444444444,\"#bd3786\"],[0.5555555555555556,\"#d8576b\"],[0.6666666666666666,\"#ed7953\"],[0.7777777777777778,\"#fb9f3a\"],[0.8888888888888888,\"#fdca26\"],[1.0,\"#f0f921\"]]}],\"contourcarpet\":[{\"type\":\"contourcarpet\",\"colorbar\":{\"outlinewidth\":0,\"ticks\":\"\"}}],\"contour\":[{\"type\":\"contour\",\"colorbar\":{\"outlinewidth\":0,\"ticks\":\"\"},\"colorscale\":[[0.0,\"#0d0887\"],[0.1111111111111111,\"#46039f\"],[0.2222222222222222,\"#7201a8\"],[0.3333333333333333,\"#9c179e\"],[0.4444444444444444,\"#bd3786\"],[0.5555555555555556,\"#d8576b\"],[0.6666666666666666,\"#ed7953\"],[0.7777777777777778,\"#fb9f3a\"],[0.8888888888888888,\"#fdca26\"],[1.0,\"#f0f921\"]]}],\"surface\":[{\"type\":\"surface\",\"colorbar\":{\"outlinewidth\":0,\"ticks\":\"\"},\"colorscale\":[[0.0,\"#0d0887\"],[0.1111111111111111,\"#46039f\"],[0.2222222222222222,\"#7201a8\"],[0.3333333333333333,\"#9c179e\"],[0.4444444444444444,\"#bd3786\"],[0.5555555555555556,\"#d8576b\"],[0.6666666666666666,\"#ed7953\"],[0.7777777777777778,\"#fb9f3a\"],[0.8888888888888888,\"#fdca26\"],[1.0,\"#f0f921\"]]}],\"mesh3d\":[{\"type\":\"mesh3d\",\"colorbar\":{\"outlinewidth\":0,\"ticks\":\"\"}}],\"scatter\":[{\"fillpattern\":{\"fillmode\":\"overlay\",\"size\":10,\"solidity\":0.2},\"type\":\"scatter\"}],\"parcoords\":[{\"type\":\"parcoords\",\"line\":{\"colorbar\":{\"outlinewidth\":0,\"ticks\":\"\"}}}],\"scatterpolargl\":[{\"type\":\"scatterpolargl\",\"marker\":{\"colorbar\":{\"outlinewidth\":0,\"ticks\":\"\"}}}],\"bar\":[{\"error_x\":{\"color\":\"#2a3f5f\"},\"error_y\":{\"color\":\"#2a3f5f\"},\"marker\":{\"line\":{\"color\":\"#E5ECF6\",\"width\":0.5},\"pattern\":{\"fillmode\":\"overlay\",\"size\":10,\"solidity\":0.2}},\"type\":\"bar\"}],\"scattergeo\":[{\"type\":\"scattergeo\",\"marker\":{\"colorbar\":{\"outlinewidth\":0,\"ticks\":\"\"}}}],\"scatterpolar\":[{\"type\":\"scatterpolar\",\"marker\":{\"colorbar\":{\"outlinewidth\":0,\"ticks\":\"\"}}}],\"histogram\":[{\"marker\":{\"pattern\":{\"fillmode\":\"overlay\",\"size\":10,\"solidity\":0.2}},\"type\":\"histogram\"}],\"scattergl\":[{\"type\":\"scattergl\",\"marker\":{\"colorbar\":{\"outlinewidth\":0,\"ticks\":\"\"}}}],\"scatter3d\":[{\"type\":\"scatter3d\",\"line\":{\"colorbar\":{\"outlinewidth\":0,\"ticks\":\"\"}},\"marker\":{\"colorbar\":{\"outlinewidth\":0,\"ticks\":\"\"}}}],\"scattermapbox\":[{\"type\":\"scattermapbox\",\"marker\":{\"colorbar\":{\"outlinewidth\":0,\"ticks\":\"\"}}}],\"scatterternary\":[{\"type\":\"scatterternary\",\"marker\":{\"colorbar\":{\"outlinewidth\":0,\"ticks\":\"\"}}}],\"scattercarpet\":[{\"type\":\"scattercarpet\",\"marker\":{\"colorbar\":{\"outlinewidth\":0,\"ticks\":\"\"}}}],\"carpet\":[{\"aaxis\":{\"endlinecolor\":\"#2a3f5f\",\"gridcolor\":\"white\",\"linecolor\":\"white\",\"minorgridcolor\":\"white\",\"startlinecolor\":\"#2a3f5f\"},\"baxis\":{\"endlinecolor\":\"#2a3f5f\",\"gridcolor\":\"white\",\"linecolor\":\"white\",\"minorgridcolor\":\"white\",\"startlinecolor\":\"#2a3f5f\"},\"type\":\"carpet\"}],\"table\":[{\"cells\":{\"fill\":{\"color\":\"#EBF0F8\"},\"line\":{\"color\":\"white\"}},\"header\":{\"fill\":{\"color\":\"#C8D4E3\"},\"line\":{\"color\":\"white\"}},\"type\":\"table\"}],\"barpolar\":[{\"marker\":{\"line\":{\"color\":\"#E5ECF6\",\"width\":0.5},\"pattern\":{\"fillmode\":\"overlay\",\"size\":10,\"solidity\":0.2}},\"type\":\"barpolar\"}],\"pie\":[{\"automargin\":true,\"type\":\"pie\"}]},\"layout\":{\"autotypenumbers\":\"strict\",\"colorway\":[\"#636efa\",\"#EF553B\",\"#00cc96\",\"#ab63fa\",\"#FFA15A\",\"#19d3f3\",\"#FF6692\",\"#B6E880\",\"#FF97FF\",\"#FECB52\"],\"font\":{\"color\":\"#2a3f5f\"},\"hovermode\":\"closest\",\"hoverlabel\":{\"align\":\"left\"},\"paper_bgcolor\":\"white\",\"plot_bgcolor\":\"#E5ECF6\",\"polar\":{\"bgcolor\":\"#E5ECF6\",\"angularaxis\":{\"gridcolor\":\"white\",\"linecolor\":\"white\",\"ticks\":\"\"},\"radialaxis\":{\"gridcolor\":\"white\",\"linecolor\":\"white\",\"ticks\":\"\"}},\"ternary\":{\"bgcolor\":\"#E5ECF6\",\"aaxis\":{\"gridcolor\":\"white\",\"linecolor\":\"white\",\"ticks\":\"\"},\"baxis\":{\"gridcolor\":\"white\",\"linecolor\":\"white\",\"ticks\":\"\"},\"caxis\":{\"gridcolor\":\"white\",\"linecolor\":\"white\",\"ticks\":\"\"}},\"coloraxis\":{\"colorbar\":{\"outlinewidth\":0,\"ticks\":\"\"}},\"colorscale\":{\"sequential\":[[0.0,\"#0d0887\"],[0.1111111111111111,\"#46039f\"],[0.2222222222222222,\"#7201a8\"],[0.3333333333333333,\"#9c179e\"],[0.4444444444444444,\"#bd3786\"],[0.5555555555555556,\"#d8576b\"],[0.6666666666666666,\"#ed7953\"],[0.7777777777777778,\"#fb9f3a\"],[0.8888888888888888,\"#fdca26\"],[1.0,\"#f0f921\"]],\"sequentialminus\":[[0.0,\"#0d0887\"],[0.1111111111111111,\"#46039f\"],[0.2222222222222222,\"#7201a8\"],[0.3333333333333333,\"#9c179e\"],[0.4444444444444444,\"#bd3786\"],[0.5555555555555556,\"#d8576b\"],[0.6666666666666666,\"#ed7953\"],[0.7777777777777778,\"#fb9f3a\"],[0.8888888888888888,\"#fdca26\"],[1.0,\"#f0f921\"]],\"diverging\":[[0,\"#8e0152\"],[0.1,\"#c51b7d\"],[0.2,\"#de77ae\"],[0.3,\"#f1b6da\"],[0.4,\"#fde0ef\"],[0.5,\"#f7f7f7\"],[0.6,\"#e6f5d0\"],[0.7,\"#b8e186\"],[0.8,\"#7fbc41\"],[0.9,\"#4d9221\"],[1,\"#276419\"]]},\"xaxis\":{\"gridcolor\":\"white\",\"linecolor\":\"white\",\"ticks\":\"\",\"title\":{\"standoff\":15},\"zerolinecolor\":\"white\",\"automargin\":true,\"zerolinewidth\":2},\"yaxis\":{\"gridcolor\":\"white\",\"linecolor\":\"white\",\"ticks\":\"\",\"title\":{\"standoff\":15},\"zerolinecolor\":\"white\",\"automargin\":true,\"zerolinewidth\":2},\"scene\":{\"xaxis\":{\"backgroundcolor\":\"#E5ECF6\",\"gridcolor\":\"white\",\"linecolor\":\"white\",\"showbackground\":true,\"ticks\":\"\",\"zerolinecolor\":\"white\",\"gridwidth\":2},\"yaxis\":{\"backgroundcolor\":\"#E5ECF6\",\"gridcolor\":\"white\",\"linecolor\":\"white\",\"showbackground\":true,\"ticks\":\"\",\"zerolinecolor\":\"white\",\"gridwidth\":2},\"zaxis\":{\"backgroundcolor\":\"#E5ECF6\",\"gridcolor\":\"white\",\"linecolor\":\"white\",\"showbackground\":true,\"ticks\":\"\",\"zerolinecolor\":\"white\",\"gridwidth\":2}},\"shapedefaults\":{\"line\":{\"color\":\"#2a3f5f\"}},\"annotationdefaults\":{\"arrowcolor\":\"#2a3f5f\",\"arrowhead\":0,\"arrowwidth\":1},\"geo\":{\"bgcolor\":\"white\",\"landcolor\":\"#E5ECF6\",\"subunitcolor\":\"white\",\"showland\":true,\"showlakes\":true,\"lakecolor\":\"white\"},\"title\":{\"x\":0.05},\"mapbox\":{\"style\":\"light\"}}},\"xaxis\":{\"anchor\":\"y\",\"domain\":[0.0,1.0]},\"yaxis\":{\"anchor\":\"x\",\"domain\":[0.0,1.0],\"title\":{\"text\":\"TV\"}},\"legend\":{\"tracegroupgap\":0},\"margin\":{\"t\":60},\"boxmode\":\"group\"},                        {\"responsive\": true}                    ).then(function(){\n",
       "                            \n",
       "var gd = document.getElementById('0a217b00-ad20-4336-b29b-e58f58117507');\n",
       "var x = new MutationObserver(function (mutations, observer) {{\n",
       "        var display = window.getComputedStyle(gd).display;\n",
       "        if (!display || display === 'none') {{\n",
       "            console.log([gd, 'removed!']);\n",
       "            Plotly.purge(gd);\n",
       "            observer.disconnect();\n",
       "        }}\n",
       "}});\n",
       "\n",
       "// Listen for the removal of the full notebook cells\n",
       "var notebookContainer = gd.closest('#notebook-container');\n",
       "if (notebookContainer) {{\n",
       "    x.observe(notebookContainer, {childList: true});\n",
       "}}\n",
       "\n",
       "// Listen for the clearing of the current output cell\n",
       "var outputEl = gd.closest('.output');\n",
       "if (outputEl) {{\n",
       "    x.observe(outputEl, {childList: true});\n",
       "}}\n",
       "\n",
       "                        })                };                });            </script>        </div>"
      ]
     },
     "metadata": {},
     "output_type": "display_data"
    }
   ],
   "source": [
    "import plotly.express as px\n",
    "fig = px.box(df, y = \"TV\")\n",
    "fig.show()"
   ]
  },
  {
   "cell_type": "markdown",
   "id": "837793ef-bdd9-431d-a16e-615244de0b96",
   "metadata": {},
   "source": [
    "# Age Calculator using Python"
   ]
  },
  {
   "cell_type": "code",
   "execution_count": 9,
   "id": "f8f1c5cb-ccc0-4d30-ba28-ad091ac45f80",
   "metadata": {},
   "outputs": [
    {
     "name": "stdout",
     "output_type": "stream",
     "text": [
      "25\n"
     ]
    }
   ],
   "source": [
    "def ageCalculator(y, m, d):\n",
    "    \n",
    "    import datetime as dt\n",
    "    today = dt.datetime.now().date()\n",
    "    dob = dt.date(y, m, d)\n",
    "    age = int((today-dob).days / 365.25)\n",
    "    print(age)\n",
    "    \n",
    "ageCalculator(1998, 8, 12)"
   ]
  },
  {
   "cell_type": "markdown",
   "id": "78820337-d3b1-4e66-a49d-52406eb8f970",
   "metadata": {},
   "source": [
    "# Dice Roll Simulator"
   ]
  },
  {
   "cell_type": "code",
   "execution_count": 5,
   "id": "cffb69bd-9730-4487-a1d8-9beb73db8e7c",
   "metadata": {},
   "outputs": [
    {
     "name": "stdout",
     "output_type": "stream",
     "text": [
      "Rolling the Dice........\n",
      "The value is 2\n"
     ]
    },
    {
     "name": "stdin",
     "output_type": "stream",
     "text": [
      "Do you want to roll the dice again? y\n"
     ]
    },
    {
     "name": "stdout",
     "output_type": "stream",
     "text": [
      "Rolling the Dice........\n",
      "The value is 3\n"
     ]
    },
    {
     "name": "stdin",
     "output_type": "stream",
     "text": [
      "Do you want to roll the dice again? y\n"
     ]
    },
    {
     "name": "stdout",
     "output_type": "stream",
     "text": [
      "Rolling the Dice........\n",
      "The value is 4\n"
     ]
    },
    {
     "name": "stdin",
     "output_type": "stream",
     "text": [
      "Do you want to roll the dice again? y\n"
     ]
    },
    {
     "name": "stdout",
     "output_type": "stream",
     "text": [
      "Rolling the Dice........\n",
      "The value is 5\n"
     ]
    },
    {
     "name": "stdin",
     "output_type": "stream",
     "text": [
      "Do you want to roll the dice again? y\n"
     ]
    },
    {
     "name": "stdout",
     "output_type": "stream",
     "text": [
      "Rolling the Dice........\n",
      "The value is 3\n"
     ]
    },
    {
     "name": "stdin",
     "output_type": "stream",
     "text": [
      "Do you want to roll the dice again? y\n"
     ]
    },
    {
     "name": "stdout",
     "output_type": "stream",
     "text": [
      "Rolling the Dice........\n",
      "The value is 6\n"
     ]
    },
    {
     "name": "stdin",
     "output_type": "stream",
     "text": [
      "Do you want to roll the dice again? y\n"
     ]
    },
    {
     "name": "stdout",
     "output_type": "stream",
     "text": [
      "Rolling the Dice........\n",
      "The value is 2\n"
     ]
    },
    {
     "name": "stdin",
     "output_type": "stream",
     "text": [
      "Do you want to roll the dice again? y\n"
     ]
    },
    {
     "name": "stdout",
     "output_type": "stream",
     "text": [
      "Rolling the Dice........\n",
      "The value is 1\n"
     ]
    },
    {
     "name": "stdin",
     "output_type": "stream",
     "text": [
      "Do you want to roll the dice again? y\n"
     ]
    },
    {
     "name": "stdout",
     "output_type": "stream",
     "text": [
      "Rolling the Dice........\n",
      "The value is 1\n"
     ]
    },
    {
     "name": "stdin",
     "output_type": "stream",
     "text": [
      "Do you want to roll the dice again? n\n"
     ]
    }
   ],
   "source": [
    "import random as rd\n",
    "\n",
    "Roll_Dice = \"yes\"\n",
    "\n",
    "while Roll_Dice == \"yes\" or Roll_Dice == \"y\":\n",
    "    print(\"Rolling the Dice........\")\n",
    "    Value = rd.randint(1,6)\n",
    "    print(\"The value is {}\".format(Value))\n",
    "    \n",
    "    Roll_Dice = input(\"Do you want to roll the dice again?\")\n",
    "    "
   ]
  },
  {
   "cell_type": "markdown",
   "id": "f1d5283a-e98d-46c6-be90-5361af51b80e",
   "metadata": {},
   "source": [
    "# Animal Quiz Game"
   ]
  },
  {
   "cell_type": "code",
   "execution_count": 13,
   "id": "5771ea5b-aafa-476f-8a4f-6745648a9248",
   "metadata": {},
   "outputs": [
    {
     "name": "stdout",
     "output_type": "stream",
     "text": [
      "Guess the Animal\n"
     ]
    },
    {
     "name": "stdin",
     "output_type": "stream",
     "text": [
      "Which bear lives at the North Pole? hghfg\n",
      "Sorry Wrong Answer. Try again gf\n",
      "Sorry Wrong Answer. Try again fg\n"
     ]
    },
    {
     "name": "stdout",
     "output_type": "stream",
     "text": [
      "The Correct answer is  polar bear\n"
     ]
    },
    {
     "name": "stdin",
     "output_type": "stream",
     "text": [
      "Which is the fastest land animal? cheetah\n"
     ]
    },
    {
     "name": "stdout",
     "output_type": "stream",
     "text": [
      "Your answer is correct\n"
     ]
    },
    {
     "name": "stdin",
     "output_type": "stream",
     "text": [
      "Which is the larget animal? hjghfv\n",
      "Sorry Wrong Answer. Try again blue whale\n"
     ]
    },
    {
     "name": "stdout",
     "output_type": "stream",
     "text": [
      "Your answer is correct\n",
      "Your Score is 2/3\n"
     ]
    }
   ],
   "source": [
    "def check_guess(Guess, Answer):\n",
    "    \n",
    "    global Score\n",
    "    Still_Guessing = True\n",
    "    Attempt = 0\n",
    "    while Still_Guessing and Attempt < 3:\n",
    "        if Guess.lower() == Answer.lower():\n",
    "            print(\"Your answer is correct\")\n",
    "            Score = Score + 1\n",
    "            Still_Guessing = False\n",
    "        else:\n",
    "            if Attempt < 2: \n",
    "                Guess = input(\"Sorry Wrong Answer. Try again\")\n",
    "            Attempt = Attempt + 1\n",
    "    \n",
    "    if Attempt == 3:\n",
    "        print(\"The Correct answer is \",Answer)\n",
    "Score = 0        \n",
    "print(\"Guess the Animal\")\n",
    "\n",
    "guess1 = input(\"Which bear lives at the North Pole?\")\n",
    "check_guess(guess1, \"polar bear\")\n",
    "\n",
    "guess2 = input(\"Which is the fastest land animal?\")\n",
    "check_guess(guess2, \"Cheetah\")\n",
    "\n",
    "guess3 = input(\"Which is the larget animal?\")\n",
    "check_guess(guess3, \"Blue Whale\")\n",
    "\n",
    "print(\"Your Score is \"+ str(Score)+\"/3\")"
   ]
  },
  {
   "cell_type": "markdown",
   "id": "6bd18271-ff09-4a3a-a16b-3ddfdd72880a",
   "metadata": {},
   "source": [
    "# Print Coloured Text"
   ]
  },
  {
   "cell_type": "code",
   "execution_count": 19,
   "id": "48aabe4a-e528-474a-8344-bab32d9358bf",
   "metadata": {},
   "outputs": [
    {
     "name": "stdout",
     "output_type": "stream",
     "text": [
      "My name is Mansi Gupta\n"
     ]
    }
   ],
   "source": [
    "import colorama\n",
    "from colorama import Fore, Back, Style\n",
    "from colorama import init\n",
    "\n",
    "colorama.init(autoreset = True)\n",
    "\n",
    "print(Fore.BLUE+Back.YELLOW+\"My name is Mansi Gupta\"+Fore.CYAN+Back.RED)"
   ]
  },
  {
   "cell_type": "code",
   "execution_count": 3,
   "id": "47cc9c72-4e74-4bc1-81d6-a1d249b15f23",
   "metadata": {},
   "outputs": [],
   "source": []
  }
 ],
 "metadata": {
  "kernelspec": {
   "display_name": "Python 3 (ipykernel)",
   "language": "python",
   "name": "python3"
  },
  "language_info": {
   "codemirror_mode": {
    "name": "ipython",
    "version": 3
   },
   "file_extension": ".py",
   "mimetype": "text/x-python",
   "name": "python",
   "nbconvert_exporter": "python",
   "pygments_lexer": "ipython3",
   "version": "3.10.9"
  }
 },
 "nbformat": 4,
 "nbformat_minor": 5
}
